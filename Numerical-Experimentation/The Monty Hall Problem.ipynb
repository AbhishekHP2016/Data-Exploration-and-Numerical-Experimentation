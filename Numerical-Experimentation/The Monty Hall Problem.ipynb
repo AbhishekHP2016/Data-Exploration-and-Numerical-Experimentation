{
 "cells": [
  {
   "cell_type": "markdown",
   "metadata": {
    "collapsed": true
   },
   "source": [
    "The Monty Hall Problem\n",
    "=====\n",
    "\n",
    "####Introduction\n",
    "Thinking _conditionally_ is a fundamental ingredient in Bayesian statistics. When applied correctly it can give rise to surprising outcomes and might result in competitetive advantages. This is the case in the classic Monty Hall problem."
   ]
  },
  {
   "cell_type": "markdown",
   "metadata": {},
   "source": [
    "Monty Hall?\n",
    "------\n",
    "\n",
    "Monty Hall was a game show host in the 70's(?) and gave his participants the following choice\n",
    "\n",
    "> There are 3 doors. Behind one door is a car, behind the two others are goats. The participant is allowed to choose a door. Monty Hall then open one of the doors that has not been chosen, thus revealing a goat (he obviously won't open the car door). The participant is then given the opportunity to switch doors.\n",
    "\n",
    "Without deep conditional thinking one might suspect that the opportunity of a second choice does not matter. However, is that true, or might we gain a competitetive advantage by observing the door Monty opens?\n",
    "\n",
    "Before we give a more mathematical answer, let's investigate the problem numerically."
   ]
  },
  {
   "cell_type": "markdown",
   "metadata": {},
   "source": [
    "Let's play the game over and over and over again\n",
    "------\n",
    "\n",
    "To get a statistical sense of the success distribution we simulate the game repeatedly and collect the results."
   ]
  },
  {
   "cell_type": "markdown",
   "metadata": {},
   "source": [
    "####Python imports"
   ]
  },
  {
   "cell_type": "code",
   "execution_count": 18,
   "metadata": {
    "collapsed": false
   },
   "outputs": [],
   "source": [
    "import matplotlib\n",
    "import matplotlib.pyplot as plt\n",
    "import random as rd\n",
    "import numpy as np\n",
    "from numpy.random import choice\n",
    "\n",
    "%matplotlib inline\n",
    "matplotlib.style.use('ggplot')\n",
    "matplotlib.rc_params_from_file(\"../styles/matplotlibrc\" ).update()"
   ]
  },
  {
   "cell_type": "markdown",
   "metadata": {
    "collapsed": true
   },
   "source": [
    "Let's first define some helper function for chosing the doors behind which the car lives and which the contestant chooses"
   ]
  },
  {
   "cell_type": "code",
   "execution_count": 19,
   "metadata": {
    "collapsed": true
   },
   "outputs": [],
   "source": [
    "def carBehindDoor(prob = [1./3, 1./3, 1./3]):\n",
    "    list_of_doors = [\"A\", \"B\", \"C\"]\n",
    "    return str(choice(list_of_doors, p = prob))\n",
    "\n",
    "def contestantChoosesRandomDoor(prob = [1./3, 1./3, 1./3]):\n",
    "    list_of_doors = [\"A\", \"B\", \"C\"]\n",
    "    return str(choice(list_of_doors, p = prob))"
   ]
  },
  {
   "cell_type": "markdown",
   "metadata": {
    "collapsed": true
   },
   "source": [
    "As a result of these choices, Monty opens another door"
   ]
  },
  {
   "cell_type": "code",
   "execution_count": 20,
   "metadata": {
    "collapsed": true
   },
   "outputs": [],
   "source": [
    "def montyOpensDoor(contestantChoice, carBehindDoor, pref_monty = [0.5, 0.5]):\n",
    "    list_of_doors = [\"A\", \"B\", \"C\"]\n",
    "    \n",
    "    # Monty will not open the car door, so we remove it\n",
    "    list_of_doors.remove(carBehindDoor)\n",
    "    \n",
    "    # If the contestant chooses the door which contains the car,\n",
    "    # Monty can choose which door to open\n",
    "    if contestantChoice is carBehindDoor:\n",
    "        return str(choice(list_of_doors, p = pref_monty))\n",
    "    \n",
    "    # If the car and contestant door do not coincide,\n",
    "    # Monty has only a single choice\n",
    "    elif contestantChoice is list_of_doors[0]:\n",
    "        return list_of_doors[1]\n",
    "    else:\n",
    "        return list_of_doors[0]"
   ]
  },
  {
   "cell_type": "markdown",
   "metadata": {},
   "source": [
    "Now we have all the moves of the game ready. We only need to count how often the contestant wins if he switches."
   ]
  },
  {
   "cell_type": "code",
   "execution_count": 21,
   "metadata": {
    "collapsed": true
   },
   "outputs": [],
   "source": [
    "def successUponSwitch(car_door, contestant_door, monty_door):\n",
    "    list_of_doors = [\"A\", \"B\", \"C\"]\n",
    "    \n",
    "    # Remove Monty's door\n",
    "    list_of_doors.remove(monty_door)\n",
    "    \n",
    "    # The contestant switches, so we remove his door\n",
    "    list_of_doors.remove(contestant_door)\n",
    "    \n",
    "    # check if final door is the door with the car\n",
    "    if list_of_doors[0] == car_door:\n",
    "        return True\n",
    "    elif list_of_doors[0] != car_door:\n",
    "        return False"
   ]
  },
  {
   "cell_type": "markdown",
   "metadata": {},
   "source": [
    "Let's string together the experiment"
   ]
  },
  {
   "cell_type": "code",
   "execution_count": 22,
   "metadata": {
    "collapsed": false
   },
   "outputs": [],
   "source": [
    "def runExperiment(n_trials):\n",
    "    success = 0\n",
    "    for k in range(n_trials):\n",
    "        car_behind_door = carBehindDoor()\n",
    "        contestant_door = contestantChoosesRandomDoor()\n",
    "        monty_door = montyOpensDoor(contestant_door, car_behind_door)\n",
    "        if successUponSwitch(car_behind_door, contestant_door, monty_door):\n",
    "            success += 1\n",
    "    return float(success)/float(n_trials)"
   ]
  },
  {
   "cell_type": "markdown",
   "metadata": {},
   "source": [
    "To get a reasonable estimate we run the experiment $10000$ times and obtain the success probability as"
   ]
  },
  {
   "cell_type": "code",
   "execution_count": 23,
   "metadata": {
    "collapsed": false
   },
   "outputs": [
    {
     "name": "stdout",
     "output_type": "stream",
     "text": [
      "We succeed with a probability: 0.669\n"
     ]
    }
   ],
   "source": [
    "print \"We succeed with a probability: %0.3f\" % runExperiment(10000)"
   ]
  },
  {
   "cell_type": "markdown",
   "metadata": {
    "collapsed": false
   },
   "source": [
    "We win in about $2/3$ of the cases and hence have a distinct advantage over Monty by observing which door he opens. On average switching is good and get's us a car."
   ]
  },
  {
   "cell_type": "markdown",
   "metadata": {
    "collapsed": false
   },
   "source": [
    "Mathematical reasoning\n",
    "------\n",
    "\n",
    "To understand the outcome we use conditional probabilities. To simplify notations we denote the doors now by numbers $1, 2, 3$ and denote the event of finding the car behind door $j$ as $C_j$, Monty opening door $j$ as $M_j$ and the participant choosing door $j$ as $X_j$. Finally we call the event of success after switching doors $S$. We look for $P(S)$.\n",
    "\n",
    "To gain some intuition let's look at a decision tree"
   ]
  },
  {
   "cell_type": "markdown",
   "metadata": {
    "collapsed": false
   },
   "source": [
    "<img src=\"http://upload.wikimedia.org/wikipedia/commons/9/9e/Monty_tree.svg\"> Source: [Wikimedia Commons](http://upload.wikimedia.org/wikipedia/commons/9/9e/Monty_tree.svg)"
   ]
  },
  {
   "cell_type": "markdown",
   "metadata": {
    "collapsed": false
   },
   "source": [
    "It now becomes very obvious that switching the doors after observing Monty's door yields a better outcome for us! To reason through the problem we observe that the problem is completely symmetrical with respect to permutations of the doors. So we assume that the car is behind door $3$. Making use of the [law of total probability](http://en.wikipedia.org/wiki/Law_of_total_probability) and _conditioning on opening a specific door_ we can easily write\n",
    "\\begin{align}\n",
    "P(S) = P(S|X_1) P(X_1) + P(S|X_2) P(X_2) + P(S|X_3) P(X_3) = 1 \\cdot \\frac{1}{3} + 1 \\cdot \\frac{1}{3} + 0 = \\frac{2}{3}\n",
    "\\end{align}\n",
    "which is the result we found numerically. This is easily verified by noting that if we choose door $3$ we will never find the car, whereas in the other two cases switching will always win.\n",
    "\n",
    "Note that this is completely independent of Monty's choice. No matter what he does in 2 out of 3 cases we win the car! Of course in reality we will not make the choice independent of Monty ... he will try to keep us away from switching, by making us doubt."
   ]
  },
  {
   "cell_type": "markdown",
   "metadata": {},
   "source": [
    "###Dependence on Monty's preference for a door\n",
    "\n",
    "\n",
    "We saw that observing Monty opening a door does not give us any additional information about where the car might be if we ask for the _total_ probability of success. This sounds surprising! Maybe we might gain even more advantage if we knew something about Monty's preferences for opening a door? Let's run some experiments. Assume Monty is always standing next to door $A$ and opens the closest goat-door with probability $p$. \n",
    "\n",
    "Stringing the experiment together we get:"
   ]
  },
  {
   "cell_type": "code",
   "execution_count": 24,
   "metadata": {
    "collapsed": true
   },
   "outputs": [],
   "source": [
    "def runExperiment(n_trials, p_monty):\n",
    "    success = 0\n",
    "    for k in range(n_trials):\n",
    "        car_behind_door = carBehindDoor()\n",
    "        contestant_door = contestantChoosesRandomDoor()\n",
    "        monty_door = montyOpensDoor(contestant_door, car_behind_door, pref_monty=[p_monty, 1-p_monty])\n",
    "        if successUponSwitch(car_behind_door, contestant_door, monty_door):\n",
    "            success += 1\n",
    "    return float(success)/float(n_trials)"
   ]
  },
  {
   "cell_type": "code",
   "execution_count": 25,
   "metadata": {
    "collapsed": false
   },
   "outputs": [
    {
     "name": "stdout",
     "output_type": "stream",
     "text": [
      "We succeed with a probability: 0.660\n"
     ]
    }
   ],
   "source": [
    "p_monty = 0.9\n",
    "print \"We succeed with a probability: %0.3f\" % runExperiment(10000, p_monty)"
   ]
  },
  {
   "cell_type": "markdown",
   "metadata": {},
   "source": [
    "Indeed! Monty's preferences do not play a role in the grand scheme of things. But are we asking the right question here?"
   ]
  },
  {
   "cell_type": "markdown",
   "metadata": {},
   "source": [
    "Lazy Monty and conditional probability\n",
    "------\n",
    "\n",
    "What we should really be asking is the question of how often we succeed _given that Monty opens a specific door_, i.e.\n",
    "\\begin{align}\n",
    "P(S | M_2) = P(C_3 | M_2)\n",
    "\\end{align}\n",
    "\n",
    "Using the definition of conditional probability this can be re-expressed as\n",
    "\\begin{align}\n",
    "P(C_3 | M_2) = \\frac{P(C_3\\cap M_2)}{P(M_2)} = \\frac{P(S\\cap M_2)}{P(M_2)}\n",
    "\\end{align}\n",
    "\n",
    "Let's simulate this!\n",
    "\n",
    "What we need is the count of cases where we won _and_ Monty opened a specific door"
   ]
  },
  {
   "cell_type": "code",
   "execution_count": 26,
   "metadata": {
    "collapsed": false
   },
   "outputs": [],
   "source": [
    "def runConditionalExperiment(n_trials, observed_monty_door, p_monty):\n",
    "    cond_success = 0\n",
    "    count_monty_observerd_door = 0\n",
    "    for k in range(n_trials):\n",
    "        car_behind_door = 'C'\n",
    "        contestant_door = contestantChoosesRandomDoor()\n",
    "        monty_door = montyOpensDoor(contestant_door, car_behind_door, pref_monty=[p_monty, 1-p_monty])\n",
    "        \n",
    "        if monty_door == observed_monty_door:\n",
    "            count_monty_observerd_door += 1\n",
    "        \n",
    "        if successUponSwitch(car_behind_door, contestant_door, monty_door) and monty_door == observed_monty_door:\n",
    "            cond_success += 1\n",
    "    return float(cond_success)/float(count_monty_observerd_door)"
   ]
  },
  {
   "cell_type": "markdown",
   "metadata": {},
   "source": [
    "Note that in the return argument we returned the ratio between the counts and not the probabilities. This is correct since we get the probabilities by normalizing with the number of trials. However, this normalization drops out when calculating the ratio.\n",
    "\n",
    "What do we get?"
   ]
  },
  {
   "cell_type": "code",
   "execution_count": 27,
   "metadata": {
    "collapsed": false
   },
   "outputs": [
    {
     "name": "stdout",
     "output_type": "stream",
     "text": [
      "We succeed with a probability: 0.802\n"
     ]
    }
   ],
   "source": [
    "p_monty = .75\n",
    "print \"We succeed with a probability: %0.3f\" % runConditionalExperiment(10000, 'B', p_monty)"
   ]
  },
  {
   "cell_type": "markdown",
   "metadata": {},
   "source": [
    "Surprise! We do get some additional advantage if we ask the question what our success rate is _given Monty opens a specific door_. How does this probability depend on his preferences?"
   ]
  },
  {
   "cell_type": "code",
   "execution_count": 28,
   "metadata": {
    "collapsed": true
   },
   "outputs": [],
   "source": [
    "p_monty = np.linspace(0, 1, 100)\n",
    "cond_probabilities = []\n",
    "for prob in p_monty:\n",
    "    cond_probabilities.append(runConditionalExperiment(10000, 'B', prob))"
   ]
  },
  {
   "cell_type": "code",
   "execution_count": 29,
   "metadata": {
    "collapsed": false
   },
   "outputs": [
    {
     "data": {
      "text/plain": [
       "[<matplotlib.lines.Line2D at 0x1087ce2d0>]"
      ]
     },
     "execution_count": 29,
     "metadata": {},
     "output_type": "execute_result"
    },
    {
     "data": {
      "image/png": "[encoded data removed]",
      "text/plain": [
       "<matplotlib.figure.Figure at 0x10874a350>"
      ]
     },
     "metadata": {},
     "output_type": "display_data"
    }
   ],
   "source": [
    "plt.plot(p_monty, cond_probabilities)"
   ]
  },
  {
   "cell_type": "markdown",
   "metadata": {},
   "source": [
    "This is quite surprising! If Monty never opens door $2$ we have no advantage and win the car only half of the time. However, if Monty opens door $2$ always, we are guaranteed to win the car every single time!\n",
    "\n",
    "To understand this in more formal terms we make use of [Bayes rule](http://en.wikipedia.org/wiki/Bayes%27_theorem) and find\n",
    "\\begin{align}\n",
    "P(C_3 | M_2) \\,=\\, \\frac{P(M_2 | C_3) P(C_3)}{P(M_2)}\n",
    "\\end{align}\n",
    "\n",
    "Let's look at the different probabilities individually:\n",
    "\n",
    "- $P(M_2 | C_3)=1$, since Monty is forced to open door $2$ in this constellation (the contestant has to choose door $1$ or the strategy fails)\n",
    "- $P(C_j) = 1/3$, since the contestant has no prior knowledge of where the car is\n",
    "- $P(M_2)$ is slightly more complicated. To simplify this we expand this into disjoint cases using the [law of total probability](http://en.wikipedia.org/wiki/Law_of_total_probability). We then have (given the contestant chooses door $1$):\n",
    "\\begin{align}\n",
    "P(M_2) = P(M_2|C_1) P(C_1) + P(M_2|C_2) P(C_2) + P(M_2|C_3) P(C_3)\n",
    " = (1-p) \\cdot \\frac{1}{3} + 0 + 1\\cdot \\frac{1}{3}\n",
    "\\end{align}\n",
    "\n",
    "Putting this all together we find\n",
    "\\begin{align}\n",
    "P(C_3 | M_2) \\,=\\, \\frac{1}{2-p}\n",
    "\\end{align}\n",
    "which is exactly what we found in the graph above! Note that in the symmetric case $p=0.5$ we obtain the result of total probability, meaning that at this point the events are independent."
   ]
  },
  {
   "cell_type": "markdown",
   "metadata": {},
   "source": [
    "Summary\n",
    "------\n",
    "\n",
    "The Monty Hall problem has several surprising and non-intuitive twists. First of all, we can come up with a dominant stragegy that always beats Monty, by simply switching the doors independent of Monty's choice. This is surprising as naively one would think the chances are equal. Second, when conditioning on Monty's behavior, we do see a dependence of our success strategy on Monty's preference of doors. If we stick with our original choice always, then Monty can come up with a strategy that will equalize our chances.\n",
    "\n",
    "Enjoy this notebook and have a lot of fun playing some more with it, such as exploring different amount of doors or a different strategy. Contributions are more than welcome!"
   ]
  },
  {
   "cell_type": "markdown",
   "metadata": {},
   "source": [
    "###Miscellenea\n",
    "\n",
    "####References\n",
    "are given throughout the text\n",
    "\n",
    "####Stylesheet"
   ]
  },
  {
   "cell_type": "code",
   "execution_count": 30,
   "metadata": {
    "collapsed": false
   },
   "outputs": [
    {
     "data": {
      "text/html": [
       "<style>\n",
       "    @font-face {\n",
       "        font-family: \"Computer Modern\";\n",
       "        src: url('http://9dbb143991406a7c655e-aa5fcb0a5a4ec34cff238a2d56ca4144.r56.cf5.rackcdn.com/cmunss.otf');\n",
       "    }\n",
       "    @font-face {\n",
       "        font-family: \"Computer Modern\";\n",
       "        font-weight: bold;\n",
       "        src: url('http://9dbb143991406a7c655e-aa5fcb0a5a4ec34cff238a2d56ca4144.r56.cf5.rackcdn.com/cmunsx.otf');\n",
       "    }\n",
       "    @font-face {\n",
       "        font-family: \"Computer Modern\";\n",
       "        font-style: oblique;\n",
       "        src: url('http://9dbb143991406a7c655e-aa5fcb0a5a4ec34cff238a2d56ca4144.r56.cf5.rackcdn.com/cmunsi.otf');\n",
       "    }\n",
       "    @font-face {\n",
       "        font-family: \"Computer Modern\";\n",
       "        font-weight: bold;\n",
       "        font-style: oblique;\n",
       "        src: url('http://9dbb143991406a7c655e-aa5fcb0a5a4ec34cff238a2d56ca4144.r56.cf5.rackcdn.com/cmunso.otf');\n",
       "    }\n",
       "    div.cell{\n",
       "        width:800px;\n",
       "        margin-left:16% !important;\n",
       "        margin-right:auto;\n",
       "    }\n",
       "    h1 {\n",
       "        font-family: Helvetica, serif;\n",
       "    }\n",
       "    h4{\n",
       "        margin-top:12px;\n",
       "        margin-bottom: 3px;\n",
       "       }\n",
       "    div.text_cell_render{\n",
       "        font-family: Computer Modern, \"Helvetica Neue\", Arial, Helvetica, Geneva, sans-serif;\n",
       "        line-height: 145%;\n",
       "        font-size: 130%;\n",
       "        width:800px;\n",
       "        margin-left:auto;\n",
       "        margin-right:auto;\n",
       "    }\n",
       "    .CodeMirror{\n",
       "            font-family: \"Source Code Pro\", source-code-pro,Consolas, monospace;\n",
       "    }\n",
       "    .prompt{\n",
       "        display: None;\n",
       "    }\n",
       "    .text_cell_render h5 {\n",
       "        font-weight: 300;\n",
       "        font-size: 22pt;\n",
       "        color: #4057A1;\n",
       "        font-style: italic;\n",
       "        margin-bottom: .5em;\n",
       "        margin-top: 0.5em;\n",
       "        display: block;\n",
       "    }\n",
       "    \n",
       "    .warning{\n",
       "        color: rgb( 240, 20, 20 )\n",
       "        }  \n",
       "</style>\n",
       "<script>\n",
       "    MathJax.Hub.Config({\n",
       "                        TeX: {\n",
       "                           extensions: [\"AMSmath.js\"]\n",
       "                           },\n",
       "                tex2jax: {\n",
       "                    inlineMath: [ ['$','$'], [\"\\\\(\",\"\\\\)\"] ],\n",
       "                    displayMath: [ ['$$','$$'], [\"\\\\[\",\"\\\\]\"] ]\n",
       "                },\n",
       "                displayAlign: 'center', // Change this to 'center' to center equations.\n",
       "                \"HTML-CSS\": {\n",
       "                    styles: {'.MathJax_Display': {\"margin\": 4}}\n",
       "                }\n",
       "        });\n",
       "</script>\n"
      ],
      "text/plain": [
       "<IPython.core.display.HTML object>"
      ]
     },
     "execution_count": 30,
     "metadata": {},
     "output_type": "execute_result"
    }
   ],
   "source": [
    "from IPython.core.display import HTML\n",
    "\n",
    "def css_styling():\n",
    "    styles = open(\"../styles/custom.css\", \"r\").read()\n",
    "    return HTML(styles)\n",
    "css_styling()"
   ]
  },
  {
   "cell_type": "code",
   "execution_count": null,
   "metadata": {
    "collapsed": true
   },
   "outputs": [],
   "source": []
  }
 ],
 "metadata": {
  "kernelspec": {
   "display_name": "Python 2",
   "language": "python",
   "name": "python2"
  },
  "language_info": {
   "codemirror_mode": {
    "name": "ipython",
    "version": 2
   },
   "file_extension": ".py",
   "mimetype": "text/x-python",
   "name": "python",
   "nbconvert_exporter": "python",
   "pygments_lexer": "ipython2",
   "version": "2.7.9"
  }
 },
 "nbformat": 4,
 "nbformat_minor": 0
}
